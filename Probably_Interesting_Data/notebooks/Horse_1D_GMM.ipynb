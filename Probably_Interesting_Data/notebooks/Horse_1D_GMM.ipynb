{
 "cells": [
  {
   "cell_type": "code",
   "execution_count": 1,
   "metadata": {},
   "outputs": [],
   "source": [
    "import pandas as pd\n",
    "import numpy as np\n",
    "import seaborn as sns\n",
    "import matplotlib.pyplot as plt\n",
    "\n",
    "# copies of dataframe read in so that maximum non-na values can be extracted from each column\n",
    "df_rect = pd.read_csv(\"C:\\\\Users\\\\Ronald\\\\Documents\\\\EECS_738\\\\Probably_Interesting_Data\\\\horse.csv\")\n",
    "df_pulse = pd.read_csv(\"C:\\\\Users\\\\Ronald\\\\Documents\\\\EECS_738\\\\Probably_Interesting_Data\\\\horse.csv\")\n",
    "df_resp = pd.read_csv(\"C:\\\\Users\\\\Ronald\\\\Documents\\\\EECS_738\\\\Probably_Interesting_Data\\\\horse.csv\")\n",
    "df_pck = pd.read_csv(\"C:\\\\Users\\\\Ronald\\\\Documents\\\\EECS_738\\\\Probably_Interesting_Data\\\\horse.csv\")"
   ]
  },
  {
   "cell_type": "markdown",
   "metadata": {},
   "source": [
    "Look at data features"
   ]
  },
  {
   "cell_type": "code",
   "execution_count": 2,
   "metadata": {},
   "outputs": [
    {
     "data": {
      "text/html": [
       "<div>\n",
       "<style scoped>\n",
       "    .dataframe tbody tr th:only-of-type {\n",
       "        vertical-align: middle;\n",
       "    }\n",
       "\n",
       "    .dataframe tbody tr th {\n",
       "        vertical-align: top;\n",
       "    }\n",
       "\n",
       "    .dataframe thead th {\n",
       "        text-align: right;\n",
       "    }\n",
       "</style>\n",
       "<table border=\"1\" class=\"dataframe\">\n",
       "  <thead>\n",
       "    <tr style=\"text-align: right;\">\n",
       "      <th></th>\n",
       "      <th>surgery</th>\n",
       "      <th>age</th>\n",
       "      <th>hospital_number</th>\n",
       "      <th>rectal_temp</th>\n",
       "      <th>pulse</th>\n",
       "      <th>respiratory_rate</th>\n",
       "      <th>temp_of_extremities</th>\n",
       "      <th>peripheral_pulse</th>\n",
       "      <th>mucous_membrane</th>\n",
       "      <th>capillary_refill_time</th>\n",
       "      <th>...</th>\n",
       "      <th>packed_cell_volume</th>\n",
       "      <th>total_protein</th>\n",
       "      <th>abdomo_appearance</th>\n",
       "      <th>abdomo_protein</th>\n",
       "      <th>outcome</th>\n",
       "      <th>surgical_lesion</th>\n",
       "      <th>lesion_1</th>\n",
       "      <th>lesion_2</th>\n",
       "      <th>lesion_3</th>\n",
       "      <th>cp_data</th>\n",
       "    </tr>\n",
       "  </thead>\n",
       "  <tbody>\n",
       "    <tr>\n",
       "      <th>0</th>\n",
       "      <td>no</td>\n",
       "      <td>adult</td>\n",
       "      <td>530101</td>\n",
       "      <td>38.5</td>\n",
       "      <td>66.0</td>\n",
       "      <td>28.0</td>\n",
       "      <td>cool</td>\n",
       "      <td>reduced</td>\n",
       "      <td>NaN</td>\n",
       "      <td>more_3_sec</td>\n",
       "      <td>...</td>\n",
       "      <td>45.0</td>\n",
       "      <td>8.4</td>\n",
       "      <td>NaN</td>\n",
       "      <td>NaN</td>\n",
       "      <td>died</td>\n",
       "      <td>no</td>\n",
       "      <td>11300</td>\n",
       "      <td>0</td>\n",
       "      <td>0</td>\n",
       "      <td>no</td>\n",
       "    </tr>\n",
       "    <tr>\n",
       "      <th>1</th>\n",
       "      <td>yes</td>\n",
       "      <td>adult</td>\n",
       "      <td>534817</td>\n",
       "      <td>39.2</td>\n",
       "      <td>88.0</td>\n",
       "      <td>20.0</td>\n",
       "      <td>NaN</td>\n",
       "      <td>NaN</td>\n",
       "      <td>pale_cyanotic</td>\n",
       "      <td>less_3_sec</td>\n",
       "      <td>...</td>\n",
       "      <td>50.0</td>\n",
       "      <td>85.0</td>\n",
       "      <td>cloudy</td>\n",
       "      <td>2.0</td>\n",
       "      <td>euthanized</td>\n",
       "      <td>no</td>\n",
       "      <td>2208</td>\n",
       "      <td>0</td>\n",
       "      <td>0</td>\n",
       "      <td>no</td>\n",
       "    </tr>\n",
       "    <tr>\n",
       "      <th>2</th>\n",
       "      <td>no</td>\n",
       "      <td>adult</td>\n",
       "      <td>530334</td>\n",
       "      <td>38.3</td>\n",
       "      <td>40.0</td>\n",
       "      <td>24.0</td>\n",
       "      <td>normal</td>\n",
       "      <td>normal</td>\n",
       "      <td>pale_pink</td>\n",
       "      <td>less_3_sec</td>\n",
       "      <td>...</td>\n",
       "      <td>33.0</td>\n",
       "      <td>6.7</td>\n",
       "      <td>NaN</td>\n",
       "      <td>NaN</td>\n",
       "      <td>lived</td>\n",
       "      <td>no</td>\n",
       "      <td>0</td>\n",
       "      <td>0</td>\n",
       "      <td>0</td>\n",
       "      <td>yes</td>\n",
       "    </tr>\n",
       "    <tr>\n",
       "      <th>3</th>\n",
       "      <td>yes</td>\n",
       "      <td>young</td>\n",
       "      <td>5290409</td>\n",
       "      <td>39.1</td>\n",
       "      <td>164.0</td>\n",
       "      <td>84.0</td>\n",
       "      <td>cold</td>\n",
       "      <td>normal</td>\n",
       "      <td>dark_cyanotic</td>\n",
       "      <td>more_3_sec</td>\n",
       "      <td>...</td>\n",
       "      <td>48.0</td>\n",
       "      <td>7.2</td>\n",
       "      <td>serosanguious</td>\n",
       "      <td>5.3</td>\n",
       "      <td>died</td>\n",
       "      <td>yes</td>\n",
       "      <td>2208</td>\n",
       "      <td>0</td>\n",
       "      <td>0</td>\n",
       "      <td>yes</td>\n",
       "    </tr>\n",
       "    <tr>\n",
       "      <th>4</th>\n",
       "      <td>no</td>\n",
       "      <td>adult</td>\n",
       "      <td>530255</td>\n",
       "      <td>37.3</td>\n",
       "      <td>104.0</td>\n",
       "      <td>35.0</td>\n",
       "      <td>NaN</td>\n",
       "      <td>NaN</td>\n",
       "      <td>dark_cyanotic</td>\n",
       "      <td>more_3_sec</td>\n",
       "      <td>...</td>\n",
       "      <td>74.0</td>\n",
       "      <td>7.4</td>\n",
       "      <td>NaN</td>\n",
       "      <td>NaN</td>\n",
       "      <td>died</td>\n",
       "      <td>no</td>\n",
       "      <td>4300</td>\n",
       "      <td>0</td>\n",
       "      <td>0</td>\n",
       "      <td>no</td>\n",
       "    </tr>\n",
       "  </tbody>\n",
       "</table>\n",
       "<p>5 rows × 28 columns</p>\n",
       "</div>"
      ],
      "text/plain": [
       "  surgery    age  hospital_number  rectal_temp  pulse  respiratory_rate  \\\n",
       "0      no  adult           530101         38.5   66.0              28.0   \n",
       "1     yes  adult           534817         39.2   88.0              20.0   \n",
       "2      no  adult           530334         38.3   40.0              24.0   \n",
       "3     yes  young          5290409         39.1  164.0              84.0   \n",
       "4      no  adult           530255         37.3  104.0              35.0   \n",
       "\n",
       "  temp_of_extremities peripheral_pulse mucous_membrane capillary_refill_time  \\\n",
       "0                cool          reduced             NaN            more_3_sec   \n",
       "1                 NaN              NaN   pale_cyanotic            less_3_sec   \n",
       "2              normal           normal       pale_pink            less_3_sec   \n",
       "3                cold           normal   dark_cyanotic            more_3_sec   \n",
       "4                 NaN              NaN   dark_cyanotic            more_3_sec   \n",
       "\n",
       "    ...    packed_cell_volume total_protein abdomo_appearance abdomo_protein  \\\n",
       "0   ...                  45.0           8.4               NaN            NaN   \n",
       "1   ...                  50.0          85.0            cloudy            2.0   \n",
       "2   ...                  33.0           6.7               NaN            NaN   \n",
       "3   ...                  48.0           7.2     serosanguious            5.3   \n",
       "4   ...                  74.0           7.4               NaN            NaN   \n",
       "\n",
       "      outcome  surgical_lesion lesion_1 lesion_2  lesion_3  cp_data  \n",
       "0        died               no    11300        0         0       no  \n",
       "1  euthanized               no     2208        0         0       no  \n",
       "2       lived               no        0        0         0      yes  \n",
       "3        died              yes     2208        0         0      yes  \n",
       "4        died               no     4300        0         0       no  \n",
       "\n",
       "[5 rows x 28 columns]"
      ]
     },
     "execution_count": 2,
     "metadata": {},
     "output_type": "execute_result"
    }
   ],
   "source": [
    "df_rect.head()"
   ]
  },
  {
   "cell_type": "markdown",
   "metadata": {},
   "source": [
    "Look at the distribution of points for various features. Drop all 'na' values"
   ]
  },
  {
   "cell_type": "code",
   "execution_count": 3,
   "metadata": {},
   "outputs": [],
   "source": [
    "df_rect.dropna(subset=['rectal_temp'], inplace=True)\n",
    "df_rect.reset_index(drop=True, inplace=True)\n",
    "rectal_temp = df_rect['rectal_temp']\n",
    "\n",
    "df_pulse.dropna(subset=['pulse'], inplace=True)\n",
    "df_pulse.reset_index(drop=True, inplace=True)\n",
    "pulse = df_pulse['pulse']\n",
    "\n",
    "df_resp.dropna(subset=['respiratory_rate'], inplace=True)\n",
    "df_resp.reset_index(drop=True, inplace=True)\n",
    "respiratory_rate = df_resp['respiratory_rate']\n",
    "\n",
    "df_pck.dropna(subset=['packed_cell_volume'], inplace=True)\n",
    "df_pck.reset_index(drop=True, inplace=True)\n",
    "packed_cell_volume = df_pck['packed_cell_volume']"
   ]
  },
  {
   "cell_type": "code",
   "execution_count": 4,
   "metadata": {},
   "outputs": [
    {
     "data": {
      "text/plain": [
       "<matplotlib.axes._subplots.AxesSubplot at 0x29bca965080>"
      ]
     },
     "execution_count": 4,
     "metadata": {},
     "output_type": "execute_result"
    },
    {
     "data": {
      "image/png": "[encoded data removed]",
      "text/plain": [
       "<Figure size 432x288 with 1 Axes>"
      ]
     },
     "metadata": {},
     "output_type": "display_data"
    }
   ],
   "source": [
    "sns.distplot(rectal_temp, hist=False)"
   ]
  },
  {
   "cell_type": "code",
   "execution_count": 5,
   "metadata": {},
   "outputs": [
    {
     "data": {
      "text/plain": [
       "<matplotlib.axes._subplots.AxesSubplot at 0x29bcaa93240>"
      ]
     },
     "execution_count": 5,
     "metadata": {},
     "output_type": "execute_result"
    },
    {
     "data": {
      "image/png": "[encoded data removed]",
      "text/plain": [
       "<Figure size 432x288 with 1 Axes>"
      ]
     },
     "metadata": {},
     "output_type": "display_data"
    }
   ],
   "source": [
    "sns.distplot(pulse, hist=False)"
   ]
  },
  {
   "cell_type": "code",
   "execution_count": 6,
   "metadata": {},
   "outputs": [
    {
     "data": {
      "text/plain": [
       "<matplotlib.axes._subplots.AxesSubplot at 0x29bcad16ac8>"
      ]
     },
     "execution_count": 6,
     "metadata": {},
     "output_type": "execute_result"
    },
    {
     "data": {
      "image/png": "[encoded data removed]",
      "text/plain": [
       "<Figure size 432x288 with 1 Axes>"
      ]
     },
     "metadata": {},
     "output_type": "display_data"
    }
   ],
   "source": [
    "sns.distplot(respiratory_rate, hist=False)"
   ]
  },
  {
   "cell_type": "code",
   "execution_count": 7,
   "metadata": {},
   "outputs": [
    {
     "data": {
      "text/plain": [
       "<matplotlib.axes._subplots.AxesSubplot at 0x29bcad0c748>"
      ]
     },
     "execution_count": 7,
     "metadata": {},
     "output_type": "execute_result"
    },
    {
     "data": {
      "image/png": "[encoded data removed]",
      "text/plain": [
       "<Figure size 432x288 with 1 Axes>"
      ]
     },
     "metadata": {},
     "output_type": "display_data"
    }
   ],
   "source": [
    "sns.distplot(packed_cell_volume, hist=False)"
   ]
  },
  {
   "cell_type": "markdown",
   "metadata": {},
   "source": [
    "From the plots above, it can be seen that these are not pure gaussian models, but rather mixtures of gaussian models.\n",
    "\n",
    "It also can be observed that a gaussian mixture model composed of 2 gaussians (k = 2) would be a good fit for these distributions.\n",
    "\n",
    "Our goal is to find the number of models that provides the best mixtures."
   ]
  },
  {
   "cell_type": "code",
   "execution_count": 8,
   "metadata": {},
   "outputs": [],
   "source": [
    "# create a simple gaussian model\n",
    "from math import exp, pi, sqrt\n",
    "def gaussian(x, mu, sigma):\n",
    "    p = []\n",
    "    N = len(x)\n",
    "    \n",
    "    # calculate probability densities for each x\n",
    "    for i in range(N):\n",
    "        p.append((1/(sigma * sqrt(2*pi))) * exp((-1/2) *((x[i]-mu)/sigma)**2))\n",
    "    return p"
   ]
  },
  {
   "cell_type": "code",
   "execution_count": 9,
   "metadata": {},
   "outputs": [],
   "source": [
    "# convergence criterion test for the gaussian mixture model\n",
    "# criterion if the updated values of mu and sigma have not increased by more than .01, then the EM algorithm has converged\n",
    "def convergence_test(mu, mu_prev, sig, sig_prev):\n",
    "    k = len(mu)\n",
    "    mu_diff = []\n",
    "    sig_diff = []\n",
    "    \n",
    "    # compute difference between updated and previous values for mu and sigma\n",
    "    for i in range(k):\n",
    "        mu_diff.append(abs(mu[i]-mu_prev[i]))\n",
    "        sig_diff.append(abs(sig[i]-sig_prev[i]))\n",
    "    \n",
    "    # check if values of the differences meet the criterion\n",
    "    mu_count = 0\n",
    "    sig_count = 0\n",
    "    for i in range(k):\n",
    "        if(mu_diff[i] < .01):\n",
    "            mu_count = mu_count + 1\n",
    "        if(sig_diff[i] < .01):\n",
    "            sig_count = sig_count + 1\n",
    "    \n",
    "    if(mu_count == k and sig_count == k):\n",
    "        return True\n",
    "    else:\n",
    "        return False"
   ]
  },
  {
   "cell_type": "code",
   "execution_count": 10,
   "metadata": {},
   "outputs": [],
   "source": [
    "# plots 1d gaussian mixture model\n",
    "def colormap(x):\n",
    "    N = len(x)\n",
    "    k = len(x[0])\n",
    "    cm = []\n",
    "    \n",
    "    for i in range(N):\n",
    "        cm.append(x[i].index(max(x[i])))\n",
    "    \n",
    "    print(cm)         \n",
    "    return cm"
   ]
  },
  {
   "cell_type": "code",
   "execution_count": 11,
   "metadata": {},
   "outputs": [],
   "source": [
    "# create plot function for gaussian model\n",
    "def plot_gaussian(z):\n",
    "    z.sort()\n",
    "    x, y = zip(*z)\n",
    "    plt.plot(x,y)"
   ]
  },
  {
   "cell_type": "markdown",
   "metadata": {},
   "source": [
    "Create a gaussian mixture model using the expectation-maximization (EM) algorithm\n",
    "\n",
    "Arbitrarily choose mu values by looking at original graph\n",
    "\n",
    "Mu values for each distribution will be stored in a dictionary that can be passed into the gaussian mixture model"
   ]
  },
  {
   "cell_type": "code",
   "execution_count": 12,
   "metadata": {},
   "outputs": [],
   "source": [
    "from random import choice\n",
    "def gaussian_mixture_model(x, k, d):\n",
    "    # initialize values of means, variances, and mixture coefficients of gaussian models\n",
    "    N = len(x)\n",
    "    mix = 1/k\n",
    "    mu = []\n",
    "    mu_prev = []\n",
    "    sig = []\n",
    "    sig_prev = []\n",
    "    pi_k = []\n",
    "    pi_k_prev = []\n",
    "    lat = []\n",
    "    gaus = []\n",
    "    \n",
    "    # pick good starting values for mu and sig\n",
    "    \n",
    "    for i in range(k):\n",
    "        mu.append(d[k][i])\n",
    "        mu_prev.append(100)\n",
    "        sig.append(1.0)\n",
    "        sig_prev.append(100)\n",
    "        pi_k.append(mix)\n",
    "        lat.append([0] * N)\n",
    "        \n",
    "    # initialize guassian variable\n",
    "    for i in range(k):\n",
    "        gaus.append(gaussian(x, mu[i],sig[i]))\n",
    "        \n",
    "    # repeat E-step and M-step until convergence criterion met\n",
    "    count = 0\n",
    "    \n",
    "    # convergence criterion for EM algorithm\n",
    "    while(not convergence_test(mu, mu_prev, sig, sig_prev) or count < 50):\n",
    "        # E-step \n",
    "        # compute the values of the latent variables\n",
    "        for i in range(k):\n",
    "            for j in range(N):\n",
    "                lat_total = 0\n",
    "                for l in range(k):\n",
    "                    lat_total = lat_total + pi_k[l]*gaus[l][j]\n",
    "                lat[i][j] = pi_k[i]*gaus[i][j]/lat_total\n",
    "                \n",
    "        # store prev values of means, variances for convergence testing\n",
    "        mu_prev = mu.copy()\n",
    "        sig_prev = sig.copy()\n",
    "        pi_k_prev = pi_k.copy()\n",
    "        \n",
    "        \n",
    "        # M-step    \n",
    "        # update the values of the means, variances, and mixing cofficient\n",
    "        for i in range(k):\n",
    "            mu_sum = 0\n",
    "            sig_sum = 0\n",
    "            pi_sum = 0\n",
    "            for j in range(N):\n",
    "                mu_sum = mu_sum + (x[j] * lat[i][j])/sum(lat[i])\n",
    "                sig_sum = sig_sum + ((x[j]-mu[i])**2 * lat[i][j])/sum(lat[i])\n",
    "                pi_sum = pi_sum + lat[i][j]/N\n",
    "            mu[i] = mu_sum\n",
    "            sig[i] = sqrt(sig_sum)\n",
    "            pi_k[i] = pi_sum\n",
    "        \n",
    "        # update gaussian models\n",
    "        for i in range(k):\n",
    "            gaus[i] = gaussian(x, 38,sig[i])\n",
    "        \n",
    "        # increase iteration\n",
    "        count = count + 1\n",
    "    \n",
    "    # responsibilities for each sample\n",
    "    resp = [ list(x) for x in zip(*lat)]\n",
    "    \n",
    "    y = []\n",
    "    \n",
    "    for i in range(N):\n",
    "        p_sum = 0\n",
    "        for j in range(k):\n",
    "            p_sum = p_sum + pi_k[j]*gaus[j][i]\n",
    "        y.append(p_sum)\n",
    "\n",
    "    z = list(zip(x,y))\n",
    "    \n",
    "    # plot function\n",
    "    plot_gaussian(z)\n",
    "    \n",
    "    return"
   ]
  },
  {
   "cell_type": "markdown",
   "metadata": {},
   "source": [
    "Test the GMM model on various features at the value k = 2"
   ]
  },
  {
   "cell_type": "code",
   "execution_count": 22,
   "metadata": {},
   "outputs": [
    {
     "data": {
      "image/png": "[encoded data removed]",
      "text/plain": [
       "<Figure size 432x288 with 1 Axes>"
      ]
     },
     "metadata": {},
     "output_type": "display_data"
    }
   ],
   "source": [
    "d1 = {2:[38.0,39.5], 3:[35.0,38.0,39.5], 4:[35.0,36.2,38.0,39.5]}\n",
    "y1 = gaussian_mixture_model(rectal_temp, 2, d1)"
   ]
  },
  {
   "cell_type": "code",
   "execution_count": 24,
   "metadata": {},
   "outputs": [
    {
     "ename": "ZeroDivisionError",
     "evalue": "float division by zero",
     "output_type": "error",
     "traceback": [
      "\u001b[1;31m---------------------------------------------------------------------------\u001b[0m",
      "\u001b[1;31mZeroDivisionError\u001b[0m                         Traceback (most recent call last)",
      "\u001b[1;32m<ipython-input-24-e34acb7f506c>\u001b[0m in \u001b[0;36m<module>\u001b[1;34m()\u001b[0m\n\u001b[0;32m      1\u001b[0m \u001b[1;31m# pulse feature\u001b[0m\u001b[1;33m\u001b[0m\u001b[1;33m\u001b[0m\u001b[0m\n\u001b[0;32m      2\u001b[0m \u001b[0md2\u001b[0m \u001b[1;33m=\u001b[0m \u001b[1;33m{\u001b[0m\u001b[1;36m2\u001b[0m\u001b[1;33m:\u001b[0m\u001b[1;33m[\u001b[0m\u001b[1;36m50.0\u001b[0m\u001b[1;33m,\u001b[0m \u001b[1;36m85.0\u001b[0m\u001b[1;33m]\u001b[0m\u001b[1;33m}\u001b[0m\u001b[1;33m\u001b[0m\u001b[0m\n\u001b[1;32m----> 3\u001b[1;33m \u001b[0my4\u001b[0m \u001b[1;33m=\u001b[0m \u001b[0mgaussian_mixture_model\u001b[0m\u001b[1;33m(\u001b[0m\u001b[0mpulse\u001b[0m\u001b[1;33m,\u001b[0m \u001b[1;36m2\u001b[0m\u001b[1;33m,\u001b[0m \u001b[0md2\u001b[0m\u001b[1;33m)\u001b[0m\u001b[1;33m\u001b[0m\u001b[0m\n\u001b[0m",
      "\u001b[1;32m<ipython-input-12-62e90f71e777>\u001b[0m in \u001b[0;36mgaussian_mixture_model\u001b[1;34m(x, k, d)\u001b[0m\n\u001b[0;32m     39\u001b[0m                 \u001b[1;32mfor\u001b[0m \u001b[0ml\u001b[0m \u001b[1;32min\u001b[0m \u001b[0mrange\u001b[0m\u001b[1;33m(\u001b[0m\u001b[0mk\u001b[0m\u001b[1;33m)\u001b[0m\u001b[1;33m:\u001b[0m\u001b[1;33m\u001b[0m\u001b[0m\n\u001b[0;32m     40\u001b[0m                     \u001b[0mlat_total\u001b[0m \u001b[1;33m=\u001b[0m \u001b[0mlat_total\u001b[0m \u001b[1;33m+\u001b[0m \u001b[0mpi_k\u001b[0m\u001b[1;33m[\u001b[0m\u001b[0ml\u001b[0m\u001b[1;33m]\u001b[0m\u001b[1;33m*\u001b[0m\u001b[0mgaus\u001b[0m\u001b[1;33m[\u001b[0m\u001b[0ml\u001b[0m\u001b[1;33m]\u001b[0m\u001b[1;33m[\u001b[0m\u001b[0mj\u001b[0m\u001b[1;33m]\u001b[0m\u001b[1;33m\u001b[0m\u001b[0m\n\u001b[1;32m---> 41\u001b[1;33m                 \u001b[0mlat\u001b[0m\u001b[1;33m[\u001b[0m\u001b[0mi\u001b[0m\u001b[1;33m]\u001b[0m\u001b[1;33m[\u001b[0m\u001b[0mj\u001b[0m\u001b[1;33m]\u001b[0m \u001b[1;33m=\u001b[0m \u001b[0mpi_k\u001b[0m\u001b[1;33m[\u001b[0m\u001b[0mi\u001b[0m\u001b[1;33m]\u001b[0m\u001b[1;33m*\u001b[0m\u001b[0mgaus\u001b[0m\u001b[1;33m[\u001b[0m\u001b[0mi\u001b[0m\u001b[1;33m]\u001b[0m\u001b[1;33m[\u001b[0m\u001b[0mj\u001b[0m\u001b[1;33m]\u001b[0m\u001b[1;33m/\u001b[0m\u001b[0mlat_total\u001b[0m\u001b[1;33m\u001b[0m\u001b[0m\n\u001b[0m\u001b[0;32m     42\u001b[0m \u001b[1;33m\u001b[0m\u001b[0m\n\u001b[0;32m     43\u001b[0m         \u001b[1;31m# store prev values of means, variances for convergence testing\u001b[0m\u001b[1;33m\u001b[0m\u001b[1;33m\u001b[0m\u001b[0m\n",
      "\u001b[1;31mZeroDivisionError\u001b[0m: float division by zero"
     ]
    }
   ],
   "source": [
    "# pulse feature\n",
    "d2 = {2:[50.0, 85.0]}\n",
    "y4 = gaussian_mixture_model(pulse, 2, d2)"
   ]
  },
  {
   "cell_type": "code",
   "execution_count": 25,
   "metadata": {},
   "outputs": [
    {
     "data": {
      "image/png": "[encoded data removed]",
      "text/plain": [
       "<Figure size 432x288 with 1 Axes>"
      ]
     },
     "metadata": {},
     "output_type": "display_data"
    }
   ],
   "source": [
    "# respiratory rate feature\n",
    "d3 = {2:[25.0, 85.0]}\n",
    "y7 = gaussian_mixture_model(respiratory_rate, 2, d3)"
   ]
  },
  {
   "cell_type": "code",
   "execution_count": 26,
   "metadata": {},
   "outputs": [
    {
     "data": {
      "image/png": "[encoded data removed]",
      "text/plain": [
       "<Figure size 432x288 with 1 Axes>"
      ]
     },
     "metadata": {},
     "output_type": "display_data"
    }
   ],
   "source": [
    "# respiratory rate feature\n",
    "d4 = {2:[45.0, 65.0]}\n",
    "y10 = gaussian_mixture_model(packed_cell_volume, 2, d4)"
   ]
  },
  {
   "cell_type": "code",
   "execution_count": null,
   "metadata": {},
   "outputs": [],
   "source": [
    "# It can be seen that our EM algorithm implementation did a mediocre job at creating GMMs"
   ]
  }
 ],
 "metadata": {
  "kernelspec": {
   "display_name": "Python 3",
   "language": "python",
   "name": "python3"
  },
  "language_info": {
   "codemirror_mode": {
    "name": "ipython",
    "version": 3
   },
   "file_extension": ".py",
   "mimetype": "text/x-python",
   "name": "python",
   "nbconvert_exporter": "python",
   "pygments_lexer": "ipython3",
   "version": "3.6.5"
  }
 },
 "nbformat": 4,
 "nbformat_minor": 2
}
