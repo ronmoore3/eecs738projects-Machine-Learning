{
 "cells": [
  {
   "cell_type": "markdown",
   "metadata": {},
   "source": [
    "### Read in Dataframe"
   ]
  },
  {
   "cell_type": "code",
   "execution_count": 1,
   "metadata": {},
   "outputs": [
    {
     "data": {
      "text/html": [
       "<div>\n",
       "<style scoped>\n",
       "    .dataframe tbody tr th:only-of-type {\n",
       "        vertical-align: middle;\n",
       "    }\n",
       "\n",
       "    .dataframe tbody tr th {\n",
       "        vertical-align: top;\n",
       "    }\n",
       "\n",
       "    .dataframe thead th {\n",
       "        text-align: right;\n",
       "    }\n",
       "</style>\n",
       "<table border=\"1\" class=\"dataframe\">\n",
       "  <thead>\n",
       "    <tr style=\"text-align: right;\">\n",
       "      <th></th>\n",
       "      <th>animal_name</th>\n",
       "      <th>hair</th>\n",
       "      <th>feathers</th>\n",
       "      <th>eggs</th>\n",
       "      <th>milk</th>\n",
       "      <th>airborne</th>\n",
       "      <th>aquatic</th>\n",
       "      <th>predator</th>\n",
       "      <th>toothed</th>\n",
       "      <th>backbone</th>\n",
       "      <th>breathes</th>\n",
       "      <th>venomous</th>\n",
       "      <th>fins</th>\n",
       "      <th>legs</th>\n",
       "      <th>tail</th>\n",
       "      <th>domestic</th>\n",
       "      <th>catsize</th>\n",
       "      <th>class_type</th>\n",
       "    </tr>\n",
       "  </thead>\n",
       "  <tbody>\n",
       "    <tr>\n",
       "      <th>0</th>\n",
       "      <td>aardvark</td>\n",
       "      <td>1</td>\n",
       "      <td>0</td>\n",
       "      <td>0</td>\n",
       "      <td>1</td>\n",
       "      <td>0</td>\n",
       "      <td>0</td>\n",
       "      <td>1</td>\n",
       "      <td>1</td>\n",
       "      <td>1</td>\n",
       "      <td>1</td>\n",
       "      <td>0</td>\n",
       "      <td>0</td>\n",
       "      <td>4</td>\n",
       "      <td>0</td>\n",
       "      <td>0</td>\n",
       "      <td>1</td>\n",
       "      <td>1</td>\n",
       "    </tr>\n",
       "    <tr>\n",
       "      <th>1</th>\n",
       "      <td>antelope</td>\n",
       "      <td>1</td>\n",
       "      <td>0</td>\n",
       "      <td>0</td>\n",
       "      <td>1</td>\n",
       "      <td>0</td>\n",
       "      <td>0</td>\n",
       "      <td>0</td>\n",
       "      <td>1</td>\n",
       "      <td>1</td>\n",
       "      <td>1</td>\n",
       "      <td>0</td>\n",
       "      <td>0</td>\n",
       "      <td>4</td>\n",
       "      <td>1</td>\n",
       "      <td>0</td>\n",
       "      <td>1</td>\n",
       "      <td>1</td>\n",
       "    </tr>\n",
       "    <tr>\n",
       "      <th>2</th>\n",
       "      <td>bass</td>\n",
       "      <td>0</td>\n",
       "      <td>0</td>\n",
       "      <td>1</td>\n",
       "      <td>0</td>\n",
       "      <td>0</td>\n",
       "      <td>1</td>\n",
       "      <td>1</td>\n",
       "      <td>1</td>\n",
       "      <td>1</td>\n",
       "      <td>0</td>\n",
       "      <td>0</td>\n",
       "      <td>1</td>\n",
       "      <td>0</td>\n",
       "      <td>1</td>\n",
       "      <td>0</td>\n",
       "      <td>0</td>\n",
       "      <td>4</td>\n",
       "    </tr>\n",
       "    <tr>\n",
       "      <th>3</th>\n",
       "      <td>bear</td>\n",
       "      <td>1</td>\n",
       "      <td>0</td>\n",
       "      <td>0</td>\n",
       "      <td>1</td>\n",
       "      <td>0</td>\n",
       "      <td>0</td>\n",
       "      <td>1</td>\n",
       "      <td>1</td>\n",
       "      <td>1</td>\n",
       "      <td>1</td>\n",
       "      <td>0</td>\n",
       "      <td>0</td>\n",
       "      <td>4</td>\n",
       "      <td>0</td>\n",
       "      <td>0</td>\n",
       "      <td>1</td>\n",
       "      <td>1</td>\n",
       "    </tr>\n",
       "    <tr>\n",
       "      <th>4</th>\n",
       "      <td>boar</td>\n",
       "      <td>1</td>\n",
       "      <td>0</td>\n",
       "      <td>0</td>\n",
       "      <td>1</td>\n",
       "      <td>0</td>\n",
       "      <td>0</td>\n",
       "      <td>1</td>\n",
       "      <td>1</td>\n",
       "      <td>1</td>\n",
       "      <td>1</td>\n",
       "      <td>0</td>\n",
       "      <td>0</td>\n",
       "      <td>4</td>\n",
       "      <td>1</td>\n",
       "      <td>0</td>\n",
       "      <td>1</td>\n",
       "      <td>1</td>\n",
       "    </tr>\n",
       "  </tbody>\n",
       "</table>\n",
       "</div>"
      ],
      "text/plain": [
       "  animal_name  hair  feathers  eggs  milk  airborne  aquatic  predator  \\\n",
       "0    aardvark     1         0     0     1         0        0         1   \n",
       "1    antelope     1         0     0     1         0        0         0   \n",
       "2        bass     0         0     1     0         0        1         1   \n",
       "3        bear     1         0     0     1         0        0         1   \n",
       "4        boar     1         0     0     1         0        0         1   \n",
       "\n",
       "   toothed  backbone  breathes  venomous  fins  legs  tail  domestic  catsize  \\\n",
       "0        1         1         1         0     0     4     0         0        1   \n",
       "1        1         1         1         0     0     4     1         0        1   \n",
       "2        1         1         0         0     1     0     1         0        0   \n",
       "3        1         1         1         0     0     4     0         0        1   \n",
       "4        1         1         1         0     0     4     1         0        1   \n",
       "\n",
       "   class_type  \n",
       "0           1  \n",
       "1           1  \n",
       "2           4  \n",
       "3           1  \n",
       "4           1  "
      ]
     },
     "execution_count": 1,
     "metadata": {},
     "output_type": "execute_result"
    }
   ],
   "source": [
    "import pandas as pd\n",
    "import numpy as np\n",
    "import matplotlib.pyplot as plt\n",
    "\n",
    "df = pd.read_csv(\"C:\\\\Users\\\\Ronald\\\\Documents\\\\EECS_738\\\\Projects\\\\Says One Neuron to Another\\\\zoo.csv\")\n",
    "df.head()"
   ]
  },
  {
   "cell_type": "markdown",
   "metadata": {},
   "source": [
    "### Create for activation functions for network"
   ]
  },
  {
   "cell_type": "code",
   "execution_count": 2,
   "metadata": {},
   "outputs": [],
   "source": [
    "def relu(x):\n",
    "    return np.maximum(0,x)\n",
    "\n",
    "def softmax(x):\n",
    "    e_x = np.exp(x)\n",
    "    softmax = e_x / e_x.sum(axis=1, keepdims=True)\n",
    "    return softmax"
   ]
  },
  {
   "cell_type": "markdown",
   "metadata": {},
   "source": [
    "### Define backpropagation for network"
   ]
  },
  {
   "cell_type": "code",
   "execution_count": 3,
   "metadata": {},
   "outputs": [],
   "source": [
    "def cross_entropy_back_prop(inputs, outputs, hw, ow, hb, ob, learning_rate, ah, y):\n",
    " \n",
    "    # softmax gradient\n",
    "    softmax_der = (y - outputs) / outputs.shape[0]\n",
    "    \n",
    "    # output layer weights and biases gradients\n",
    "    ow_der = np.dot(ah.T, softmax_der)\n",
    "    ob_der = np.sum(softmax_der, axis = 0, keepdims = True)\n",
    "    \n",
    "    # hidden layer weights and biases gradients\n",
    "    ah_der = np.dot(softmax_der, ow.T)\n",
    "    ah_der[ah <= 0] = 0\n",
    "    hw_der = np.dot(inputs.T, ah_der)\n",
    "    hb_der = np.sum(ah_der, axis = 0, keepdims = True)\n",
    "    \n",
    "    # update output layer and hidden layer weights and biases\n",
    "    ow -= learning_rate * ow_der\n",
    "    hw -= learning_rate * hw_der\n",
    "    \n",
    "    ob -= learning_rate * ob_der \n",
    "    hb -= learning_rate * hb_der"
   ]
  },
  {
   "cell_type": "markdown",
   "metadata": {},
   "source": [
    "### Define model training for network"
   ]
  },
  {
   "cell_type": "code",
   "execution_count": 4,
   "metadata": {
    "scrolled": true
   },
   "outputs": [],
   "source": [
    "def mlp(inputs, outputs, hidden_layer_width, learning_rate, epochs):\n",
    "    \n",
    "    d = dict()\n",
    "    \n",
    "    # hyperparameters\n",
    "    np.random.seed(42)\n",
    "\n",
    "    # weights for hidden and output layers\n",
    "    hw = np.random.rand(len(inputs[0]), hidden_layer_width)\n",
    "\n",
    "    ow = np.random.rand(hidden_layer_width, 7)\n",
    "\n",
    "    # intialize biases for hidden and output layers to zeros\n",
    "    hb = np.zeros((1, hidden_layer_width))\n",
    "    ob = np.zeros((1, 7))\n",
    "\n",
    "    for epoch in range(1, epochs + 1):\n",
    "        # feed forward\n",
    "        # hidden layer\n",
    "        zh = np.dot(inputs, hw) + hb\n",
    "        ah = relu(zh)\n",
    "\n",
    "        # output layer\n",
    "        zo = np.dot(ah, ow) + ob\n",
    "        y = softmax(zo)\n",
    "\n",
    "        # calculate cross entropy \n",
    "        indices = np.argmax(outputs, axis = 1).astype(int)\n",
    "        predicted_probability = y[np.arange(len(y)), indices]\n",
    "        log_preds = np.log(predicted_probability)\n",
    "        cross_entropy = -np.sum(log_preds) / len(log_preds)        \n",
    "        \n",
    "        # backpropagation\n",
    "        cross_entropy_back_prop(inputs, outputs, hw, ow, hb, ob, learning_rate, ah, y)\n",
    "    \n",
    "        if epoch == epochs:\n",
    "            print(\"After %d epochs, cross entropy is now: %f\" % (epoch, cross_entropy))\n",
    "            d['hidden layer weights'] = hw\n",
    "            d['output layer weights'] = ow\n",
    "            d['hidden layer biases'] = hb\n",
    "            d['output layer biases'] = ob\n",
    "    \n",
    "    return d"
   ]
  },
  {
   "cell_type": "markdown",
   "metadata": {},
   "source": [
    "### Define model accuracy for network"
   ]
  },
  {
   "cell_type": "code",
   "execution_count": 5,
   "metadata": {},
   "outputs": [],
   "source": [
    "def model_accuracy(test_inputs, test_outputs, hidden_weights, output_weights, hidden_biases, output_biases):\n",
    "    \n",
    "    # hidden layer\n",
    "    zh = np.dot(test_inputs, hidden_weights) + hidden_biases\n",
    "    ah = relu(zh)\n",
    "    \n",
    "    # output layer\n",
    "    zo = np.dot(ah, output_weights) + output_biases\n",
    "    y = softmax(zo)\n",
    "    \n",
    "    preds_correct_boolean =  np.argmax(y, 1) == np.argmax(test_outputs, 1)\n",
    "    correct_predictions = np.sum(preds_correct_boolean)\n",
    "    accuracy = correct_predictions / len(test_outputs)\n",
    "    print(\"Accuracy is: %f\" % accuracy)"
   ]
  },
  {
   "cell_type": "markdown",
   "metadata": {},
   "source": [
    "### Shape inputs and outputs for network"
   ]
  },
  {
   "cell_type": "code",
   "execution_count": 6,
   "metadata": {},
   "outputs": [],
   "source": [
    "# inputs and outputs\n",
    "inputs = df.drop(columns=['animal_name', 'class_type'])\n",
    "outputs = pd.get_dummies(df['class_type'].values)\n",
    "outputs = outputs.values\n",
    "\n",
    "# 80-20 split for training and testing sets\n",
    "split = round(.8 * len(inputs))\n",
    "\n",
    "X_train = np.array(inputs[:split])\n",
    "X_test = np.array(inputs[split:])\n",
    "\n",
    "y_train = np.array(outputs[:split])\n",
    "y_test = np.array(outputs[split:])"
   ]
  },
  {
   "cell_type": "markdown",
   "metadata": {},
   "source": [
    "### Create model"
   ]
  },
  {
   "cell_type": "code",
   "execution_count": 7,
   "metadata": {},
   "outputs": [
    {
     "name": "stdout",
     "output_type": "stream",
     "text": [
      "After 10000 epochs, cross entropy is now: 0.000925\n"
     ]
    }
   ],
   "source": [
    "model = mlp(inputs=X_train, outputs=y_train, hidden_layer_width=20, learning_rate=0.05, epochs=10000)"
   ]
  },
  {
   "cell_type": "markdown",
   "metadata": {},
   "source": [
    "### Test model accuracy"
   ]
  },
  {
   "cell_type": "code",
   "execution_count": 8,
   "metadata": {},
   "outputs": [
    {
     "name": "stdout",
     "output_type": "stream",
     "text": [
      "Accuracy is: 0.800000\n"
     ]
    }
   ],
   "source": [
    "hw = model['hidden layer weights']\n",
    "ow = model['output layer weights']\n",
    "hb = model['hidden layer biases']\n",
    "ob = model['output layer biases']\n",
    "\n",
    "model_accuracy(test_inputs=X_test, test_outputs=y_test, hidden_weights=hw, output_weights=ow, \n",
    "               hidden_biases=hb, output_biases=ob)"
   ]
  }
 ],
 "metadata": {
  "kernelspec": {
   "display_name": "Python 3",
   "language": "python",
   "name": "python3"
  },
  "language_info": {
   "codemirror_mode": {
    "name": "ipython",
    "version": 3
   },
   "file_extension": ".py",
   "mimetype": "text/x-python",
   "name": "python",
   "nbconvert_exporter": "python",
   "pygments_lexer": "ipython3",
   "version": "3.7.0"
  }
 },
 "nbformat": 4,
 "nbformat_minor": 2
}
